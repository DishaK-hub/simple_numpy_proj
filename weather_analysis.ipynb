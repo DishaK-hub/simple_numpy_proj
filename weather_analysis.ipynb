{
 "cells": [
  {
   "cell_type": "code",
   "execution_count": 10,
   "id": "4d539868",
   "metadata": {},
   "outputs": [],
   "source": [
    "import numpy as np"
   ]
  },
  {
   "cell_type": "code",
   "execution_count": 12,
   "id": "71f5c400",
   "metadata": {},
   "outputs": [],
   "source": [
    "#As different columns have different datatypes in the data, we use the below approach"
   ]
  },
  {
   "cell_type": "code",
   "execution_count": 13,
   "id": "c102dd69",
   "metadata": {},
   "outputs": [],
   "source": [
    "dtype = [('data','U10'),('temperature', 'f4'),('precipitation', 'f4'), ('wind_speed', 'f4')]"
   ]
  },
  {
   "cell_type": "code",
   "execution_count": 14,
   "id": "f78fc31c",
   "metadata": {},
   "outputs": [],
   "source": [
    "data = np.genfromtxt('weather_data.csv', delimiter=',',skip_header=True, dtype=dtype)"
   ]
  },
  {
   "cell_type": "code",
   "execution_count": 15,
   "id": "1d87743d",
   "metadata": {},
   "outputs": [
    {
     "data": {
      "text/plain": [
       "array([('1/1/21', 5.6, 0. , 15.2), ('1/2/21', 4.8, 0.2, 12.8),\n",
       "       ('1/3/21', 6.1, 5.3,  9.6), ('1/4/21', 7.4, 1. ,  8.4),\n",
       "       ('1/5/21', 6.8, 0. , 10. ), ('1/6/21', 3.2, 2.1,  5.8),\n",
       "       ('1/7/21', 4.1, 0. , 11. ), ('1/8/21', 5.5, 0. , 12.5),\n",
       "       ('1/9/21', 6. , 3.6, 14.2), ('1/10/21', 5.8, 0. , 13.1),\n",
       "       ('1/11/21', 2.8, 0.5,  7.4), ('1/12/21', 3.1, 0. ,  6.2),\n",
       "       ('1/13/21', 4.9, 1.2,  9.3), ('1/14/21', 6.7, 4.3, 11.9),\n",
       "       ('1/15/21', 7.3, 0. , 14.5), ('1/16/21', 8.1, 0. , 15.8),\n",
       "       ('1/17/21', 6.4, 2.4, 10.2), ('1/18/21', 5.2, 1.5,  8.9),\n",
       "       ('1/19/21', 4.6, 0. ,  9.7), ('1/20/21', 5.9, 0. , 12. ),\n",
       "       ('1/21/21', 7. , 3.2, 14.6), ('1/22/21', 8.3, 0. , 16.1),\n",
       "       ('1/23/21', 7.5, 0. , 13.8), ('1/24/21', 6.9, 1.8, 12.2),\n",
       "       ('1/25/21', 5.4, 0. , 10.4), ('1/26/21', 4.2, 0. ,  9.5),\n",
       "       ('1/27/21', 3.6, 0.7,  7.1), ('1/28/21', 2.9, 0. ,  6.8),\n",
       "       ('1/29/21', 3.5, 1.1,  8.3), ('1/30/21', 4.7, 0. ,  9.9),\n",
       "       ('1/31/21', 6. , 0. , 11.7)],\n",
       "      dtype=[('data', '<U10'), ('temperature', '<f4'), ('precipitation', '<f4'), ('wind_speed', '<f4')])"
      ]
     },
     "execution_count": 15,
     "metadata": {},
     "output_type": "execute_result"
    }
   ],
   "source": [
    "data"
   ]
  },
  {
   "cell_type": "code",
   "execution_count": 16,
   "id": "164bbc6c",
   "metadata": {},
   "outputs": [],
   "source": [
    "#Statistical Analysis"
   ]
  },
  {
   "cell_type": "code",
   "execution_count": 17,
   "id": "bc428620",
   "metadata": {},
   "outputs": [],
   "source": [
    "#calculating mean of temp,precip and wind_speed"
   ]
  },
  {
   "cell_type": "code",
   "execution_count": 21,
   "id": "22645c92",
   "metadata": {},
   "outputs": [],
   "source": [
    "temp_mean = np.mean(data['temperature'])\n",
    "precip_mean = np.mean(data['precipitation'])\n",
    "wind_mean = np.mean(data['wind_speed'])"
   ]
  },
  {
   "cell_type": "code",
   "execution_count": 26,
   "id": "a1d85bef",
   "metadata": {},
   "outputs": [
    {
     "data": {
      "text/plain": [
       "array([ 5.493548 ,  0.9322581, 10.932258 ], dtype=float32)"
      ]
     },
     "execution_count": 26,
     "metadata": {},
     "output_type": "execute_result"
    }
   ],
   "source": [
    "wmeans = np.array([temp_mean, precip_mean, wind_mean])\n",
    "wmeans"
   ]
  },
  {
   "cell_type": "code",
   "execution_count": 27,
   "id": "af452433",
   "metadata": {},
   "outputs": [],
   "source": [
    "#calculating median of temp,precip and wind_speed"
   ]
  },
  {
   "cell_type": "code",
   "execution_count": 28,
   "id": "ca535e19",
   "metadata": {},
   "outputs": [],
   "source": [
    "temp_median = np.median(data['temperature'])\n",
    "precip_median = np.median(data['precipitation'])\n",
    "wind_median = np.median(data['wind_speed'])"
   ]
  },
  {
   "cell_type": "code",
   "execution_count": 29,
   "id": "e85eed98",
   "metadata": {},
   "outputs": [
    {
     "data": {
      "text/plain": [
       "array([ 5.6,  0. , 10.4], dtype=float32)"
      ]
     },
     "execution_count": 29,
     "metadata": {},
     "output_type": "execute_result"
    }
   ],
   "source": [
    "wmedians = np.array([temp_median, precip_median,wind_median])\n",
    "wmedians"
   ]
  },
  {
   "cell_type": "code",
   "execution_count": 30,
   "id": "3c05d5d6",
   "metadata": {},
   "outputs": [],
   "source": [
    "#calculating standard deviation of temp,precip and wind_speed"
   ]
  },
  {
   "cell_type": "code",
   "execution_count": 31,
   "id": "b30ea726",
   "metadata": {},
   "outputs": [],
   "source": [
    "temp_sd = np.std(data['temperature'])\n",
    "precip_sd = np.std(data['precipitation'])\n",
    "wind_sd = np.std(data['wind_speed'])"
   ]
  },
  {
   "cell_type": "code",
   "execution_count": 32,
   "id": "983d7ffd",
   "metadata": {},
   "outputs": [
    {
     "data": {
      "text/plain": [
       "array([1.5395716, 1.4247552, 2.8388305], dtype=float32)"
      ]
     },
     "execution_count": 32,
     "metadata": {},
     "output_type": "execute_result"
    }
   ],
   "source": [
    "wstds = np.array([temp_sd,precip_sd,wind_sd])\n",
    "wstds"
   ]
  },
  {
   "cell_type": "code",
   "execution_count": 33,
   "id": "ee562452",
   "metadata": {},
   "outputs": [],
   "source": [
    "#determining highest and lowest temperature recorded with dates"
   ]
  },
  {
   "cell_type": "code",
   "execution_count": 47,
   "id": "eaa786f7",
   "metadata": {},
   "outputs": [
    {
     "data": {
      "text/plain": [
       "array([('1/1/21', 5.6, 0. , 15.2), ('1/2/21', 4.8, 0.2, 12.8),\n",
       "       ('1/3/21', 6.1, 5.3,  9.6), ('1/4/21', 7.4, 1. ,  8.4),\n",
       "       ('1/5/21', 6.8, 0. , 10. ), ('1/6/21', 3.2, 2.1,  5.8),\n",
       "       ('1/7/21', 4.1, 0. , 11. ), ('1/8/21', 5.5, 0. , 12.5),\n",
       "       ('1/9/21', 6. , 3.6, 14.2), ('1/10/21', 5.8, 0. , 13.1),\n",
       "       ('1/11/21', 2.8, 0.5,  7.4), ('1/12/21', 3.1, 0. ,  6.2),\n",
       "       ('1/13/21', 4.9, 1.2,  9.3), ('1/14/21', 6.7, 4.3, 11.9),\n",
       "       ('1/15/21', 7.3, 0. , 14.5), ('1/16/21', 8.1, 0. , 15.8),\n",
       "       ('1/17/21', 6.4, 2.4, 10.2), ('1/18/21', 5.2, 1.5,  8.9),\n",
       "       ('1/19/21', 4.6, 0. ,  9.7), ('1/20/21', 5.9, 0. , 12. ),\n",
       "       ('1/21/21', 7. , 3.2, 14.6), ('1/22/21', 8.3, 0. , 16.1),\n",
       "       ('1/23/21', 7.5, 0. , 13.8), ('1/24/21', 6.9, 1.8, 12.2),\n",
       "       ('1/25/21', 5.4, 0. , 10.4), ('1/26/21', 4.2, 0. ,  9.5),\n",
       "       ('1/27/21', 3.6, 0.7,  7.1), ('1/28/21', 2.9, 0. ,  6.8),\n",
       "       ('1/29/21', 3.5, 1.1,  8.3), ('1/30/21', 4.7, 0. ,  9.9),\n",
       "       ('1/31/21', 6. , 0. , 11.7)],\n",
       "      dtype=[('data', '<U10'), ('temperature', '<f4'), ('precipitation', '<f4'), ('wind_speed', '<f4')])"
      ]
     },
     "execution_count": 47,
     "metadata": {},
     "output_type": "execute_result"
    }
   ],
   "source": [
    "data"
   ]
  },
  {
   "cell_type": "code",
   "execution_count": 48,
   "id": "62e2fa91",
   "metadata": {},
   "outputs": [],
   "source": [
    "#getting the date of day of lowest temperature and highest temperature "
   ]
  },
  {
   "cell_type": "code",
   "execution_count": 71,
   "id": "be7468f4",
   "metadata": {},
   "outputs": [],
   "source": [
    "lowtemp_date = data[data['temperature'] == np.min(data['temperature'])]"
   ]
  },
  {
   "cell_type": "code",
   "execution_count": 123,
   "id": "2240c1f9",
   "metadata": {},
   "outputs": [
    {
     "data": {
      "text/plain": [
       "'1/11/21'"
      ]
     },
     "execution_count": 123,
     "metadata": {},
     "output_type": "execute_result"
    }
   ],
   "source": [
    "lowtemp_date[0][0]"
   ]
  },
  {
   "cell_type": "code",
   "execution_count": 124,
   "id": "d86b4b73",
   "metadata": {},
   "outputs": [],
   "source": [
    "hightemp_date = data[data['temperature'] == np.max(data['temperature'])]"
   ]
  },
  {
   "cell_type": "code",
   "execution_count": 128,
   "id": "20f7c44e",
   "metadata": {},
   "outputs": [
    {
     "data": {
      "text/plain": [
       "'1/22/21'"
      ]
     },
     "execution_count": 128,
     "metadata": {},
     "output_type": "execute_result"
    }
   ],
   "source": [
    "hightemp_date['data'][0]"
   ]
  },
  {
   "cell_type": "code",
   "execution_count": 90,
   "id": "8fae3140",
   "metadata": {},
   "outputs": [],
   "source": [
    "#Find the days with precipitation greater than a certain threshold (e.g., 10 mm) and count how many such days there are."
   ]
  },
  {
   "cell_type": "code",
   "execution_count": 130,
   "id": "05c635d1",
   "metadata": {},
   "outputs": [],
   "source": [
    "high_precip_days = data[data['precipitation'] > 0.1]['data']"
   ]
  },
  {
   "cell_type": "code",
   "execution_count": 139,
   "id": "0ba1326d",
   "metadata": {},
   "outputs": [
    {
     "data": {
      "text/plain": [
       "14"
      ]
     },
     "execution_count": 139,
     "metadata": {},
     "output_type": "execute_result"
    }
   ],
   "source": [
    "x = list(high_precip_days[:])\n",
    "num_of_days = len(x)\n",
    "num_of_days"
   ]
  },
  {
   "cell_type": "code",
   "execution_count": 140,
   "id": "8c27845a",
   "metadata": {},
   "outputs": [],
   "source": [
    "#Identify the month with the highest average wind speed."
   ]
  },
  {
   "cell_type": "code",
   "execution_count": 141,
   "id": "9aa0b038",
   "metadata": {},
   "outputs": [],
   "source": [
    "highw_date = data[data['wind_speed'] == np.max(data['wind_speed'])]"
   ]
  },
  {
   "cell_type": "code",
   "execution_count": 149,
   "id": "c66d7bc1",
   "metadata": {},
   "outputs": [],
   "source": [
    "date_str = str(highw_date[0][0])"
   ]
  },
  {
   "cell_type": "code",
   "execution_count": 153,
   "id": "bb1d5c6f",
   "metadata": {},
   "outputs": [],
   "source": [
    "x = date_str.split('/')"
   ]
  },
  {
   "cell_type": "code",
   "execution_count": 156,
   "id": "1bff3b22",
   "metadata": {},
   "outputs": [
    {
     "data": {
      "text/plain": [
       "'Jan'"
      ]
     },
     "execution_count": 156,
     "metadata": {},
     "output_type": "execute_result"
    }
   ],
   "source": [
    "match int(x[0]):\n",
    "    case 1: \n",
    "        month = 'Jan'\n",
    "    case 2:\n",
    "        month = 'Feb'\n",
    "    \n",
    "month"
   ]
  },
  {
   "cell_type": "code",
   "execution_count": null,
   "id": "1a2e4a5f",
   "metadata": {},
   "outputs": [],
   "source": []
  }
 ],
 "metadata": {
  "kernelspec": {
   "display_name": "Python 3 (ipykernel)",
   "language": "python",
   "name": "python3"
  },
  "language_info": {
   "codemirror_mode": {
    "name": "ipython",
    "version": 3
   },
   "file_extension": ".py",
   "mimetype": "text/x-python",
   "name": "python",
   "nbconvert_exporter": "python",
   "pygments_lexer": "ipython3",
   "version": "3.11.5"
  }
 },
 "nbformat": 4,
 "nbformat_minor": 5
}
